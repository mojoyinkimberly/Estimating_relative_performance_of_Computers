{
  "nbformat": 4,
  "nbformat_minor": 0,
  "metadata": {
    "colab": {
      "name": "predicting_computer_hardware_performance",
      "provenance": [],
      "authorship_tag": "ABX9TyPWXlOniJE+fXwhkw4E8rZp",
      "include_colab_link": true
    },
    "kernelspec": {
      "name": "python3",
      "display_name": "Python 3"
    },
    "language_info": {
      "name": "python"
    }
  },
  "cells": [
    {
      "cell_type": "markdown",
      "metadata": {
        "id": "view-in-github",
        "colab_type": "text"
      },
      "source": [
        "<a href=\"https://colab.research.google.com/github/mojoyinkimberly/Estimating_relative_performance_of_Computers/blob/main/predicting_computer_hardware_performance.ipynb\" target=\"_parent\"><img src=\"https://colab.research.google.com/assets/colab-badge.svg\" alt=\"Open In Colab\"/></a>"
      ]
    },
    {
      "cell_type": "markdown",
      "source": [
        "Importing libraries"
      ],
      "metadata": {
        "id": "Zz5IsVmokeDE"
      }
    },
    {
      "cell_type": "code",
      "execution_count": 242,
      "metadata": {
        "id": "U-djPk8_TDmj"
      },
      "outputs": [],
      "source": [
        "import pandas as pd\n",
        "import numpy as np\n",
        "import matplotlib.pyplot as plt\n",
        "import seaborn as sns\n",
        "\n",
        "from sklearn.model_selection import train_test_split\n",
        "from sklearn.linear_model import ElasticNet\n",
        "from sklearn.linear_model import Ridge\n",
        "from sklearn.linear_model import LinearRegression\n",
        "from sklearn.preprocessing import StandardScaler, MinMaxScaler\n",
        "from sklearn.ensemble import RandomForestRegressor\n",
        "from sklearn.metrics import mean_absolute_error, mean_squared_error, r2_score\n",
        "from yellowbrick.regressor import ResidualsPlot"
      ]
    },
    {
      "cell_type": "markdown",
      "source": [
        "Reading the dataset into the python environment"
      ],
      "metadata": {
        "id": "4nyTHYTVkmI3"
      }
    },
    {
      "cell_type": "code",
      "source": [
        "dataset = pd.read_csv(\"/content/machine.data\",sep = ',')\n",
        "dataset"
      ],
      "metadata": {
        "colab": {
          "base_uri": "https://localhost:8080/",
          "height": 423
        },
        "id": "kal5UfamT7Ik",
        "outputId": "c1fccc0c-8d81-4f95-d161-cefa447c46ff"
      },
      "execution_count": 243,
      "outputs": [
        {
          "output_type": "execute_result",
          "data": {
            "text/plain": [
              "    adviser          32/60  125   256   6000  256.1  16  128  198  199\n",
              "0    amdahl         470v/7   29  8000  32000     32   8   32  269  253\n",
              "1    amdahl        470v/7a   29  8000  32000     32   8   32  220  253\n",
              "2    amdahl        470v/7b   29  8000  32000     32   8   32  172  253\n",
              "3    amdahl        470v/7c   29  8000  16000     32   8   16  132  132\n",
              "4    amdahl         470v/b   26  8000  32000     64   8   32  318  290\n",
              "..      ...            ...  ...   ...    ...    ...  ..  ...  ...  ...\n",
              "203  sperry           80/8  124  1000   8000      0   1    8   42   37\n",
              "204  sperry  90/80-model-3   98  1000   8000     32   2    8   46   50\n",
              "205  sratus             32  125  2000   8000      0   2   14   52   41\n",
              "206    wang         vs-100  480   512   8000     32   0    0   67   47\n",
              "207    wang          vs-90  480  1000   4000      0   0    0   45   25\n",
              "\n",
              "[208 rows x 10 columns]"
            ],
            "text/html": [
              "\n",
              "  <div id=\"df-7690b7c7-f0b2-4a17-b1f3-2f11dd578bc1\">\n",
              "    <div class=\"colab-df-container\">\n",
              "      <div>\n",
              "<style scoped>\n",
              "    .dataframe tbody tr th:only-of-type {\n",
              "        vertical-align: middle;\n",
              "    }\n",
              "\n",
              "    .dataframe tbody tr th {\n",
              "        vertical-align: top;\n",
              "    }\n",
              "\n",
              "    .dataframe thead th {\n",
              "        text-align: right;\n",
              "    }\n",
              "</style>\n",
              "<table border=\"1\" class=\"dataframe\">\n",
              "  <thead>\n",
              "    <tr style=\"text-align: right;\">\n",
              "      <th></th>\n",
              "      <th>adviser</th>\n",
              "      <th>32/60</th>\n",
              "      <th>125</th>\n",
              "      <th>256</th>\n",
              "      <th>6000</th>\n",
              "      <th>256.1</th>\n",
              "      <th>16</th>\n",
              "      <th>128</th>\n",
              "      <th>198</th>\n",
              "      <th>199</th>\n",
              "    </tr>\n",
              "  </thead>\n",
              "  <tbody>\n",
              "    <tr>\n",
              "      <th>0</th>\n",
              "      <td>amdahl</td>\n",
              "      <td>470v/7</td>\n",
              "      <td>29</td>\n",
              "      <td>8000</td>\n",
              "      <td>32000</td>\n",
              "      <td>32</td>\n",
              "      <td>8</td>\n",
              "      <td>32</td>\n",
              "      <td>269</td>\n",
              "      <td>253</td>\n",
              "    </tr>\n",
              "    <tr>\n",
              "      <th>1</th>\n",
              "      <td>amdahl</td>\n",
              "      <td>470v/7a</td>\n",
              "      <td>29</td>\n",
              "      <td>8000</td>\n",
              "      <td>32000</td>\n",
              "      <td>32</td>\n",
              "      <td>8</td>\n",
              "      <td>32</td>\n",
              "      <td>220</td>\n",
              "      <td>253</td>\n",
              "    </tr>\n",
              "    <tr>\n",
              "      <th>2</th>\n",
              "      <td>amdahl</td>\n",
              "      <td>470v/7b</td>\n",
              "      <td>29</td>\n",
              "      <td>8000</td>\n",
              "      <td>32000</td>\n",
              "      <td>32</td>\n",
              "      <td>8</td>\n",
              "      <td>32</td>\n",
              "      <td>172</td>\n",
              "      <td>253</td>\n",
              "    </tr>\n",
              "    <tr>\n",
              "      <th>3</th>\n",
              "      <td>amdahl</td>\n",
              "      <td>470v/7c</td>\n",
              "      <td>29</td>\n",
              "      <td>8000</td>\n",
              "      <td>16000</td>\n",
              "      <td>32</td>\n",
              "      <td>8</td>\n",
              "      <td>16</td>\n",
              "      <td>132</td>\n",
              "      <td>132</td>\n",
              "    </tr>\n",
              "    <tr>\n",
              "      <th>4</th>\n",
              "      <td>amdahl</td>\n",
              "      <td>470v/b</td>\n",
              "      <td>26</td>\n",
              "      <td>8000</td>\n",
              "      <td>32000</td>\n",
              "      <td>64</td>\n",
              "      <td>8</td>\n",
              "      <td>32</td>\n",
              "      <td>318</td>\n",
              "      <td>290</td>\n",
              "    </tr>\n",
              "    <tr>\n",
              "      <th>...</th>\n",
              "      <td>...</td>\n",
              "      <td>...</td>\n",
              "      <td>...</td>\n",
              "      <td>...</td>\n",
              "      <td>...</td>\n",
              "      <td>...</td>\n",
              "      <td>...</td>\n",
              "      <td>...</td>\n",
              "      <td>...</td>\n",
              "      <td>...</td>\n",
              "    </tr>\n",
              "    <tr>\n",
              "      <th>203</th>\n",
              "      <td>sperry</td>\n",
              "      <td>80/8</td>\n",
              "      <td>124</td>\n",
              "      <td>1000</td>\n",
              "      <td>8000</td>\n",
              "      <td>0</td>\n",
              "      <td>1</td>\n",
              "      <td>8</td>\n",
              "      <td>42</td>\n",
              "      <td>37</td>\n",
              "    </tr>\n",
              "    <tr>\n",
              "      <th>204</th>\n",
              "      <td>sperry</td>\n",
              "      <td>90/80-model-3</td>\n",
              "      <td>98</td>\n",
              "      <td>1000</td>\n",
              "      <td>8000</td>\n",
              "      <td>32</td>\n",
              "      <td>2</td>\n",
              "      <td>8</td>\n",
              "      <td>46</td>\n",
              "      <td>50</td>\n",
              "    </tr>\n",
              "    <tr>\n",
              "      <th>205</th>\n",
              "      <td>sratus</td>\n",
              "      <td>32</td>\n",
              "      <td>125</td>\n",
              "      <td>2000</td>\n",
              "      <td>8000</td>\n",
              "      <td>0</td>\n",
              "      <td>2</td>\n",
              "      <td>14</td>\n",
              "      <td>52</td>\n",
              "      <td>41</td>\n",
              "    </tr>\n",
              "    <tr>\n",
              "      <th>206</th>\n",
              "      <td>wang</td>\n",
              "      <td>vs-100</td>\n",
              "      <td>480</td>\n",
              "      <td>512</td>\n",
              "      <td>8000</td>\n",
              "      <td>32</td>\n",
              "      <td>0</td>\n",
              "      <td>0</td>\n",
              "      <td>67</td>\n",
              "      <td>47</td>\n",
              "    </tr>\n",
              "    <tr>\n",
              "      <th>207</th>\n",
              "      <td>wang</td>\n",
              "      <td>vs-90</td>\n",
              "      <td>480</td>\n",
              "      <td>1000</td>\n",
              "      <td>4000</td>\n",
              "      <td>0</td>\n",
              "      <td>0</td>\n",
              "      <td>0</td>\n",
              "      <td>45</td>\n",
              "      <td>25</td>\n",
              "    </tr>\n",
              "  </tbody>\n",
              "</table>\n",
              "<p>208 rows × 10 columns</p>\n",
              "</div>\n",
              "      <button class=\"colab-df-convert\" onclick=\"convertToInteractive('df-7690b7c7-f0b2-4a17-b1f3-2f11dd578bc1')\"\n",
              "              title=\"Convert this dataframe to an interactive table.\"\n",
              "              style=\"display:none;\">\n",
              "        \n",
              "  <svg xmlns=\"http://www.w3.org/2000/svg\" height=\"24px\"viewBox=\"0 0 24 24\"\n",
              "       width=\"24px\">\n",
              "    <path d=\"M0 0h24v24H0V0z\" fill=\"none\"/>\n",
              "    <path d=\"M18.56 5.44l.94 2.06.94-2.06 2.06-.94-2.06-.94-.94-2.06-.94 2.06-2.06.94zm-11 1L8.5 8.5l.94-2.06 2.06-.94-2.06-.94L8.5 2.5l-.94 2.06-2.06.94zm10 10l.94 2.06.94-2.06 2.06-.94-2.06-.94-.94-2.06-.94 2.06-2.06.94z\"/><path d=\"M17.41 7.96l-1.37-1.37c-.4-.4-.92-.59-1.43-.59-.52 0-1.04.2-1.43.59L10.3 9.45l-7.72 7.72c-.78.78-.78 2.05 0 2.83L4 21.41c.39.39.9.59 1.41.59.51 0 1.02-.2 1.41-.59l7.78-7.78 2.81-2.81c.8-.78.8-2.07 0-2.86zM5.41 20L4 18.59l7.72-7.72 1.47 1.35L5.41 20z\"/>\n",
              "  </svg>\n",
              "      </button>\n",
              "      \n",
              "  <style>\n",
              "    .colab-df-container {\n",
              "      display:flex;\n",
              "      flex-wrap:wrap;\n",
              "      gap: 12px;\n",
              "    }\n",
              "\n",
              "    .colab-df-convert {\n",
              "      background-color: #E8F0FE;\n",
              "      border: none;\n",
              "      border-radius: 50%;\n",
              "      cursor: pointer;\n",
              "      display: none;\n",
              "      fill: #1967D2;\n",
              "      height: 32px;\n",
              "      padding: 0 0 0 0;\n",
              "      width: 32px;\n",
              "    }\n",
              "\n",
              "    .colab-df-convert:hover {\n",
              "      background-color: #E2EBFA;\n",
              "      box-shadow: 0px 1px 2px rgba(60, 64, 67, 0.3), 0px 1px 3px 1px rgba(60, 64, 67, 0.15);\n",
              "      fill: #174EA6;\n",
              "    }\n",
              "\n",
              "    [theme=dark] .colab-df-convert {\n",
              "      background-color: #3B4455;\n",
              "      fill: #D2E3FC;\n",
              "    }\n",
              "\n",
              "    [theme=dark] .colab-df-convert:hover {\n",
              "      background-color: #434B5C;\n",
              "      box-shadow: 0px 1px 3px 1px rgba(0, 0, 0, 0.15);\n",
              "      filter: drop-shadow(0px 1px 2px rgba(0, 0, 0, 0.3));\n",
              "      fill: #FFFFFF;\n",
              "    }\n",
              "  </style>\n",
              "\n",
              "      <script>\n",
              "        const buttonEl =\n",
              "          document.querySelector('#df-7690b7c7-f0b2-4a17-b1f3-2f11dd578bc1 button.colab-df-convert');\n",
              "        buttonEl.style.display =\n",
              "          google.colab.kernel.accessAllowed ? 'block' : 'none';\n",
              "\n",
              "        async function convertToInteractive(key) {\n",
              "          const element = document.querySelector('#df-7690b7c7-f0b2-4a17-b1f3-2f11dd578bc1');\n",
              "          const dataTable =\n",
              "            await google.colab.kernel.invokeFunction('convertToInteractive',\n",
              "                                                     [key], {});\n",
              "          if (!dataTable) return;\n",
              "\n",
              "          const docLinkHtml = 'Like what you see? Visit the ' +\n",
              "            '<a target=\"_blank\" href=https://colab.research.google.com/notebooks/data_table.ipynb>data table notebook</a>'\n",
              "            + ' to learn more about interactive tables.';\n",
              "          element.innerHTML = '';\n",
              "          dataTable['output_type'] = 'display_data';\n",
              "          await google.colab.output.renderOutput(dataTable, element);\n",
              "          const docLink = document.createElement('div');\n",
              "          docLink.innerHTML = docLinkHtml;\n",
              "          element.appendChild(docLink);\n",
              "        }\n",
              "      </script>\n",
              "    </div>\n",
              "  </div>\n",
              "  "
            ]
          },
          "metadata": {},
          "execution_count": 243
        }
      ]
    },
    {
      "cell_type": "markdown",
      "source": [
        "Renaming columns for better comprehension"
      ],
      "metadata": {
        "id": "O8Dfn6nrkqbS"
      }
    },
    {
      "cell_type": "code",
      "source": [
        "renamed_columns=dataset.rename(columns={\"adviser\":\"Vendor name\",\"32/60\": \"Model Name\", \"125\":\"Machine cycle time\", \"256\":\"Minimum main memory\", \"6000\":\"Maximum main memory\", \"256.1\":\"Cache memory\",\"16\":\"Minimum channel\",\"128\":\"Maximum channels\",\"198\":\"Published relative performance\",\"199\":\"Estimated relative performance\"})\n",
        "renamed_columns"
      ],
      "metadata": {
        "colab": {
          "base_uri": "https://localhost:8080/",
          "height": 520
        },
        "id": "UWZOIpw5UL9L",
        "outputId": "7023ca27-1cbc-476e-8746-2bd4f611000c"
      },
      "execution_count": 244,
      "outputs": [
        {
          "output_type": "execute_result",
          "data": {
            "text/plain": [
              "    Vendor name     Model Name  Machine cycle time  Minimum main memory  \\\n",
              "0        amdahl         470v/7                  29                 8000   \n",
              "1        amdahl        470v/7a                  29                 8000   \n",
              "2        amdahl        470v/7b                  29                 8000   \n",
              "3        amdahl        470v/7c                  29                 8000   \n",
              "4        amdahl         470v/b                  26                 8000   \n",
              "..          ...            ...                 ...                  ...   \n",
              "203      sperry           80/8                 124                 1000   \n",
              "204      sperry  90/80-model-3                  98                 1000   \n",
              "205      sratus             32                 125                 2000   \n",
              "206        wang         vs-100                 480                  512   \n",
              "207        wang          vs-90                 480                 1000   \n",
              "\n",
              "     Maximum main memory  Cache memory  Minimum channel  Maximum channels  \\\n",
              "0                  32000            32                8                32   \n",
              "1                  32000            32                8                32   \n",
              "2                  32000            32                8                32   \n",
              "3                  16000            32                8                16   \n",
              "4                  32000            64                8                32   \n",
              "..                   ...           ...              ...               ...   \n",
              "203                 8000             0                1                 8   \n",
              "204                 8000            32                2                 8   \n",
              "205                 8000             0                2                14   \n",
              "206                 8000            32                0                 0   \n",
              "207                 4000             0                0                 0   \n",
              "\n",
              "     Published relative performance  Estimated relative performance  \n",
              "0                               269                             253  \n",
              "1                               220                             253  \n",
              "2                               172                             253  \n",
              "3                               132                             132  \n",
              "4                               318                             290  \n",
              "..                              ...                             ...  \n",
              "203                              42                              37  \n",
              "204                              46                              50  \n",
              "205                              52                              41  \n",
              "206                              67                              47  \n",
              "207                              45                              25  \n",
              "\n",
              "[208 rows x 10 columns]"
            ],
            "text/html": [
              "\n",
              "  <div id=\"df-55cefd29-35e9-4419-882a-4691d4ed6591\">\n",
              "    <div class=\"colab-df-container\">\n",
              "      <div>\n",
              "<style scoped>\n",
              "    .dataframe tbody tr th:only-of-type {\n",
              "        vertical-align: middle;\n",
              "    }\n",
              "\n",
              "    .dataframe tbody tr th {\n",
              "        vertical-align: top;\n",
              "    }\n",
              "\n",
              "    .dataframe thead th {\n",
              "        text-align: right;\n",
              "    }\n",
              "</style>\n",
              "<table border=\"1\" class=\"dataframe\">\n",
              "  <thead>\n",
              "    <tr style=\"text-align: right;\">\n",
              "      <th></th>\n",
              "      <th>Vendor name</th>\n",
              "      <th>Model Name</th>\n",
              "      <th>Machine cycle time</th>\n",
              "      <th>Minimum main memory</th>\n",
              "      <th>Maximum main memory</th>\n",
              "      <th>Cache memory</th>\n",
              "      <th>Minimum channel</th>\n",
              "      <th>Maximum channels</th>\n",
              "      <th>Published relative performance</th>\n",
              "      <th>Estimated relative performance</th>\n",
              "    </tr>\n",
              "  </thead>\n",
              "  <tbody>\n",
              "    <tr>\n",
              "      <th>0</th>\n",
              "      <td>amdahl</td>\n",
              "      <td>470v/7</td>\n",
              "      <td>29</td>\n",
              "      <td>8000</td>\n",
              "      <td>32000</td>\n",
              "      <td>32</td>\n",
              "      <td>8</td>\n",
              "      <td>32</td>\n",
              "      <td>269</td>\n",
              "      <td>253</td>\n",
              "    </tr>\n",
              "    <tr>\n",
              "      <th>1</th>\n",
              "      <td>amdahl</td>\n",
              "      <td>470v/7a</td>\n",
              "      <td>29</td>\n",
              "      <td>8000</td>\n",
              "      <td>32000</td>\n",
              "      <td>32</td>\n",
              "      <td>8</td>\n",
              "      <td>32</td>\n",
              "      <td>220</td>\n",
              "      <td>253</td>\n",
              "    </tr>\n",
              "    <tr>\n",
              "      <th>2</th>\n",
              "      <td>amdahl</td>\n",
              "      <td>470v/7b</td>\n",
              "      <td>29</td>\n",
              "      <td>8000</td>\n",
              "      <td>32000</td>\n",
              "      <td>32</td>\n",
              "      <td>8</td>\n",
              "      <td>32</td>\n",
              "      <td>172</td>\n",
              "      <td>253</td>\n",
              "    </tr>\n",
              "    <tr>\n",
              "      <th>3</th>\n",
              "      <td>amdahl</td>\n",
              "      <td>470v/7c</td>\n",
              "      <td>29</td>\n",
              "      <td>8000</td>\n",
              "      <td>16000</td>\n",
              "      <td>32</td>\n",
              "      <td>8</td>\n",
              "      <td>16</td>\n",
              "      <td>132</td>\n",
              "      <td>132</td>\n",
              "    </tr>\n",
              "    <tr>\n",
              "      <th>4</th>\n",
              "      <td>amdahl</td>\n",
              "      <td>470v/b</td>\n",
              "      <td>26</td>\n",
              "      <td>8000</td>\n",
              "      <td>32000</td>\n",
              "      <td>64</td>\n",
              "      <td>8</td>\n",
              "      <td>32</td>\n",
              "      <td>318</td>\n",
              "      <td>290</td>\n",
              "    </tr>\n",
              "    <tr>\n",
              "      <th>...</th>\n",
              "      <td>...</td>\n",
              "      <td>...</td>\n",
              "      <td>...</td>\n",
              "      <td>...</td>\n",
              "      <td>...</td>\n",
              "      <td>...</td>\n",
              "      <td>...</td>\n",
              "      <td>...</td>\n",
              "      <td>...</td>\n",
              "      <td>...</td>\n",
              "    </tr>\n",
              "    <tr>\n",
              "      <th>203</th>\n",
              "      <td>sperry</td>\n",
              "      <td>80/8</td>\n",
              "      <td>124</td>\n",
              "      <td>1000</td>\n",
              "      <td>8000</td>\n",
              "      <td>0</td>\n",
              "      <td>1</td>\n",
              "      <td>8</td>\n",
              "      <td>42</td>\n",
              "      <td>37</td>\n",
              "    </tr>\n",
              "    <tr>\n",
              "      <th>204</th>\n",
              "      <td>sperry</td>\n",
              "      <td>90/80-model-3</td>\n",
              "      <td>98</td>\n",
              "      <td>1000</td>\n",
              "      <td>8000</td>\n",
              "      <td>32</td>\n",
              "      <td>2</td>\n",
              "      <td>8</td>\n",
              "      <td>46</td>\n",
              "      <td>50</td>\n",
              "    </tr>\n",
              "    <tr>\n",
              "      <th>205</th>\n",
              "      <td>sratus</td>\n",
              "      <td>32</td>\n",
              "      <td>125</td>\n",
              "      <td>2000</td>\n",
              "      <td>8000</td>\n",
              "      <td>0</td>\n",
              "      <td>2</td>\n",
              "      <td>14</td>\n",
              "      <td>52</td>\n",
              "      <td>41</td>\n",
              "    </tr>\n",
              "    <tr>\n",
              "      <th>206</th>\n",
              "      <td>wang</td>\n",
              "      <td>vs-100</td>\n",
              "      <td>480</td>\n",
              "      <td>512</td>\n",
              "      <td>8000</td>\n",
              "      <td>32</td>\n",
              "      <td>0</td>\n",
              "      <td>0</td>\n",
              "      <td>67</td>\n",
              "      <td>47</td>\n",
              "    </tr>\n",
              "    <tr>\n",
              "      <th>207</th>\n",
              "      <td>wang</td>\n",
              "      <td>vs-90</td>\n",
              "      <td>480</td>\n",
              "      <td>1000</td>\n",
              "      <td>4000</td>\n",
              "      <td>0</td>\n",
              "      <td>0</td>\n",
              "      <td>0</td>\n",
              "      <td>45</td>\n",
              "      <td>25</td>\n",
              "    </tr>\n",
              "  </tbody>\n",
              "</table>\n",
              "<p>208 rows × 10 columns</p>\n",
              "</div>\n",
              "      <button class=\"colab-df-convert\" onclick=\"convertToInteractive('df-55cefd29-35e9-4419-882a-4691d4ed6591')\"\n",
              "              title=\"Convert this dataframe to an interactive table.\"\n",
              "              style=\"display:none;\">\n",
              "        \n",
              "  <svg xmlns=\"http://www.w3.org/2000/svg\" height=\"24px\"viewBox=\"0 0 24 24\"\n",
              "       width=\"24px\">\n",
              "    <path d=\"M0 0h24v24H0V0z\" fill=\"none\"/>\n",
              "    <path d=\"M18.56 5.44l.94 2.06.94-2.06 2.06-.94-2.06-.94-.94-2.06-.94 2.06-2.06.94zm-11 1L8.5 8.5l.94-2.06 2.06-.94-2.06-.94L8.5 2.5l-.94 2.06-2.06.94zm10 10l.94 2.06.94-2.06 2.06-.94-2.06-.94-.94-2.06-.94 2.06-2.06.94z\"/><path d=\"M17.41 7.96l-1.37-1.37c-.4-.4-.92-.59-1.43-.59-.52 0-1.04.2-1.43.59L10.3 9.45l-7.72 7.72c-.78.78-.78 2.05 0 2.83L4 21.41c.39.39.9.59 1.41.59.51 0 1.02-.2 1.41-.59l7.78-7.78 2.81-2.81c.8-.78.8-2.07 0-2.86zM5.41 20L4 18.59l7.72-7.72 1.47 1.35L5.41 20z\"/>\n",
              "  </svg>\n",
              "      </button>\n",
              "      \n",
              "  <style>\n",
              "    .colab-df-container {\n",
              "      display:flex;\n",
              "      flex-wrap:wrap;\n",
              "      gap: 12px;\n",
              "    }\n",
              "\n",
              "    .colab-df-convert {\n",
              "      background-color: #E8F0FE;\n",
              "      border: none;\n",
              "      border-radius: 50%;\n",
              "      cursor: pointer;\n",
              "      display: none;\n",
              "      fill: #1967D2;\n",
              "      height: 32px;\n",
              "      padding: 0 0 0 0;\n",
              "      width: 32px;\n",
              "    }\n",
              "\n",
              "    .colab-df-convert:hover {\n",
              "      background-color: #E2EBFA;\n",
              "      box-shadow: 0px 1px 2px rgba(60, 64, 67, 0.3), 0px 1px 3px 1px rgba(60, 64, 67, 0.15);\n",
              "      fill: #174EA6;\n",
              "    }\n",
              "\n",
              "    [theme=dark] .colab-df-convert {\n",
              "      background-color: #3B4455;\n",
              "      fill: #D2E3FC;\n",
              "    }\n",
              "\n",
              "    [theme=dark] .colab-df-convert:hover {\n",
              "      background-color: #434B5C;\n",
              "      box-shadow: 0px 1px 3px 1px rgba(0, 0, 0, 0.15);\n",
              "      filter: drop-shadow(0px 1px 2px rgba(0, 0, 0, 0.3));\n",
              "      fill: #FFFFFF;\n",
              "    }\n",
              "  </style>\n",
              "\n",
              "      <script>\n",
              "        const buttonEl =\n",
              "          document.querySelector('#df-55cefd29-35e9-4419-882a-4691d4ed6591 button.colab-df-convert');\n",
              "        buttonEl.style.display =\n",
              "          google.colab.kernel.accessAllowed ? 'block' : 'none';\n",
              "\n",
              "        async function convertToInteractive(key) {\n",
              "          const element = document.querySelector('#df-55cefd29-35e9-4419-882a-4691d4ed6591');\n",
              "          const dataTable =\n",
              "            await google.colab.kernel.invokeFunction('convertToInteractive',\n",
              "                                                     [key], {});\n",
              "          if (!dataTable) return;\n",
              "\n",
              "          const docLinkHtml = 'Like what you see? Visit the ' +\n",
              "            '<a target=\"_blank\" href=https://colab.research.google.com/notebooks/data_table.ipynb>data table notebook</a>'\n",
              "            + ' to learn more about interactive tables.';\n",
              "          element.innerHTML = '';\n",
              "          dataTable['output_type'] = 'display_data';\n",
              "          await google.colab.output.renderOutput(dataTable, element);\n",
              "          const docLink = document.createElement('div');\n",
              "          docLink.innerHTML = docLinkHtml;\n",
              "          element.appendChild(docLink);\n",
              "        }\n",
              "      </script>\n",
              "    </div>\n",
              "  </div>\n",
              "  "
            ]
          },
          "metadata": {},
          "execution_count": 244
        }
      ]
    },
    {
      "cell_type": "markdown",
      "source": [
        "Checking for missing values"
      ],
      "metadata": {
        "id": "yPjBT2ralj8B"
      }
    },
    {
      "cell_type": "code",
      "source": [
        "renamed_columns.isna().sum()"
      ],
      "metadata": {
        "colab": {
          "base_uri": "https://localhost:8080/"
        },
        "id": "VGqSSGBXYSpI",
        "outputId": "733b44de-cb5d-495e-ea01-1e1d8c3dc6c2"
      },
      "execution_count": 245,
      "outputs": [
        {
          "output_type": "execute_result",
          "data": {
            "text/plain": [
              "Vendor name                       0\n",
              "Model Name                        0\n",
              "Machine cycle time                0\n",
              "Minimum main memory               0\n",
              "Maximum main memory               0\n",
              "Cache memory                      0\n",
              "Minimum channel                   0\n",
              "Maximum channels                  0\n",
              "Published relative performance    0\n",
              "Estimated relative performance    0\n",
              "dtype: int64"
            ]
          },
          "metadata": {},
          "execution_count": 245
        }
      ]
    },
    {
      "cell_type": "markdown",
      "source": [
        "we have no missing values"
      ],
      "metadata": {
        "id": "bKoecxWLltwU"
      }
    },
    {
      "cell_type": "markdown",
      "source": [
        "Checking for outliers using the describe function"
      ],
      "metadata": {
        "id": "BweK3xopl6aD"
      }
    },
    {
      "cell_type": "code",
      "source": [
        "renamed_columns.describe()"
      ],
      "metadata": {
        "colab": {
          "base_uri": "https://localhost:8080/",
          "height": 362
        },
        "id": "tlm3JvkcZm7A",
        "outputId": "4d88a8b3-3b66-495f-d65f-b1ff33f0b30f"
      },
      "execution_count": 246,
      "outputs": [
        {
          "output_type": "execute_result",
          "data": {
            "text/plain": [
              "       Machine cycle time  Minimum main memory  Maximum main memory  \\\n",
              "count          208.000000           208.000000           208.000000   \n",
              "mean           204.201923          2880.538462         11824.019231   \n",
              "std            260.833016          3883.839300         11747.916663   \n",
              "min             17.000000            64.000000            64.000000   \n",
              "25%             50.000000           768.000000          4000.000000   \n",
              "50%            110.000000          2000.000000          8000.000000   \n",
              "75%            225.000000          4000.000000         16000.000000   \n",
              "max           1500.000000         32000.000000         64000.000000   \n",
              "\n",
              "       Cache memory  Minimum channel  Maximum channels  \\\n",
              "count    208.000000       208.000000        208.000000   \n",
              "mean      24.096154         4.644231         17.740385   \n",
              "std       37.417999         6.787198         24.913375   \n",
              "min        0.000000         0.000000          0.000000   \n",
              "25%        0.000000         1.000000          5.000000   \n",
              "50%        8.000000         2.000000          8.000000   \n",
              "75%       32.000000         6.000000         24.000000   \n",
              "max      256.000000        52.000000        176.000000   \n",
              "\n",
              "       Published relative performance  Estimated relative performance  \n",
              "count                      208.000000                      208.000000  \n",
              "mean                       105.177885                       98.850962  \n",
              "std                        161.090223                      154.974961  \n",
              "min                          6.000000                       15.000000  \n",
              "25%                         27.000000                       28.000000  \n",
              "50%                         49.500000                       45.000000  \n",
              "75%                        111.500000                       99.500000  \n",
              "max                       1150.000000                     1238.000000  "
            ],
            "text/html": [
              "\n",
              "  <div id=\"df-c4bf9bff-70dd-4d5d-8bbe-6ead9cc4e142\">\n",
              "    <div class=\"colab-df-container\">\n",
              "      <div>\n",
              "<style scoped>\n",
              "    .dataframe tbody tr th:only-of-type {\n",
              "        vertical-align: middle;\n",
              "    }\n",
              "\n",
              "    .dataframe tbody tr th {\n",
              "        vertical-align: top;\n",
              "    }\n",
              "\n",
              "    .dataframe thead th {\n",
              "        text-align: right;\n",
              "    }\n",
              "</style>\n",
              "<table border=\"1\" class=\"dataframe\">\n",
              "  <thead>\n",
              "    <tr style=\"text-align: right;\">\n",
              "      <th></th>\n",
              "      <th>Machine cycle time</th>\n",
              "      <th>Minimum main memory</th>\n",
              "      <th>Maximum main memory</th>\n",
              "      <th>Cache memory</th>\n",
              "      <th>Minimum channel</th>\n",
              "      <th>Maximum channels</th>\n",
              "      <th>Published relative performance</th>\n",
              "      <th>Estimated relative performance</th>\n",
              "    </tr>\n",
              "  </thead>\n",
              "  <tbody>\n",
              "    <tr>\n",
              "      <th>count</th>\n",
              "      <td>208.000000</td>\n",
              "      <td>208.000000</td>\n",
              "      <td>208.000000</td>\n",
              "      <td>208.000000</td>\n",
              "      <td>208.000000</td>\n",
              "      <td>208.000000</td>\n",
              "      <td>208.000000</td>\n",
              "      <td>208.000000</td>\n",
              "    </tr>\n",
              "    <tr>\n",
              "      <th>mean</th>\n",
              "      <td>204.201923</td>\n",
              "      <td>2880.538462</td>\n",
              "      <td>11824.019231</td>\n",
              "      <td>24.096154</td>\n",
              "      <td>4.644231</td>\n",
              "      <td>17.740385</td>\n",
              "      <td>105.177885</td>\n",
              "      <td>98.850962</td>\n",
              "    </tr>\n",
              "    <tr>\n",
              "      <th>std</th>\n",
              "      <td>260.833016</td>\n",
              "      <td>3883.839300</td>\n",
              "      <td>11747.916663</td>\n",
              "      <td>37.417999</td>\n",
              "      <td>6.787198</td>\n",
              "      <td>24.913375</td>\n",
              "      <td>161.090223</td>\n",
              "      <td>154.974961</td>\n",
              "    </tr>\n",
              "    <tr>\n",
              "      <th>min</th>\n",
              "      <td>17.000000</td>\n",
              "      <td>64.000000</td>\n",
              "      <td>64.000000</td>\n",
              "      <td>0.000000</td>\n",
              "      <td>0.000000</td>\n",
              "      <td>0.000000</td>\n",
              "      <td>6.000000</td>\n",
              "      <td>15.000000</td>\n",
              "    </tr>\n",
              "    <tr>\n",
              "      <th>25%</th>\n",
              "      <td>50.000000</td>\n",
              "      <td>768.000000</td>\n",
              "      <td>4000.000000</td>\n",
              "      <td>0.000000</td>\n",
              "      <td>1.000000</td>\n",
              "      <td>5.000000</td>\n",
              "      <td>27.000000</td>\n",
              "      <td>28.000000</td>\n",
              "    </tr>\n",
              "    <tr>\n",
              "      <th>50%</th>\n",
              "      <td>110.000000</td>\n",
              "      <td>2000.000000</td>\n",
              "      <td>8000.000000</td>\n",
              "      <td>8.000000</td>\n",
              "      <td>2.000000</td>\n",
              "      <td>8.000000</td>\n",
              "      <td>49.500000</td>\n",
              "      <td>45.000000</td>\n",
              "    </tr>\n",
              "    <tr>\n",
              "      <th>75%</th>\n",
              "      <td>225.000000</td>\n",
              "      <td>4000.000000</td>\n",
              "      <td>16000.000000</td>\n",
              "      <td>32.000000</td>\n",
              "      <td>6.000000</td>\n",
              "      <td>24.000000</td>\n",
              "      <td>111.500000</td>\n",
              "      <td>99.500000</td>\n",
              "    </tr>\n",
              "    <tr>\n",
              "      <th>max</th>\n",
              "      <td>1500.000000</td>\n",
              "      <td>32000.000000</td>\n",
              "      <td>64000.000000</td>\n",
              "      <td>256.000000</td>\n",
              "      <td>52.000000</td>\n",
              "      <td>176.000000</td>\n",
              "      <td>1150.000000</td>\n",
              "      <td>1238.000000</td>\n",
              "    </tr>\n",
              "  </tbody>\n",
              "</table>\n",
              "</div>\n",
              "      <button class=\"colab-df-convert\" onclick=\"convertToInteractive('df-c4bf9bff-70dd-4d5d-8bbe-6ead9cc4e142')\"\n",
              "              title=\"Convert this dataframe to an interactive table.\"\n",
              "              style=\"display:none;\">\n",
              "        \n",
              "  <svg xmlns=\"http://www.w3.org/2000/svg\" height=\"24px\"viewBox=\"0 0 24 24\"\n",
              "       width=\"24px\">\n",
              "    <path d=\"M0 0h24v24H0V0z\" fill=\"none\"/>\n",
              "    <path d=\"M18.56 5.44l.94 2.06.94-2.06 2.06-.94-2.06-.94-.94-2.06-.94 2.06-2.06.94zm-11 1L8.5 8.5l.94-2.06 2.06-.94-2.06-.94L8.5 2.5l-.94 2.06-2.06.94zm10 10l.94 2.06.94-2.06 2.06-.94-2.06-.94-.94-2.06-.94 2.06-2.06.94z\"/><path d=\"M17.41 7.96l-1.37-1.37c-.4-.4-.92-.59-1.43-.59-.52 0-1.04.2-1.43.59L10.3 9.45l-7.72 7.72c-.78.78-.78 2.05 0 2.83L4 21.41c.39.39.9.59 1.41.59.51 0 1.02-.2 1.41-.59l7.78-7.78 2.81-2.81c.8-.78.8-2.07 0-2.86zM5.41 20L4 18.59l7.72-7.72 1.47 1.35L5.41 20z\"/>\n",
              "  </svg>\n",
              "      </button>\n",
              "      \n",
              "  <style>\n",
              "    .colab-df-container {\n",
              "      display:flex;\n",
              "      flex-wrap:wrap;\n",
              "      gap: 12px;\n",
              "    }\n",
              "\n",
              "    .colab-df-convert {\n",
              "      background-color: #E8F0FE;\n",
              "      border: none;\n",
              "      border-radius: 50%;\n",
              "      cursor: pointer;\n",
              "      display: none;\n",
              "      fill: #1967D2;\n",
              "      height: 32px;\n",
              "      padding: 0 0 0 0;\n",
              "      width: 32px;\n",
              "    }\n",
              "\n",
              "    .colab-df-convert:hover {\n",
              "      background-color: #E2EBFA;\n",
              "      box-shadow: 0px 1px 2px rgba(60, 64, 67, 0.3), 0px 1px 3px 1px rgba(60, 64, 67, 0.15);\n",
              "      fill: #174EA6;\n",
              "    }\n",
              "\n",
              "    [theme=dark] .colab-df-convert {\n",
              "      background-color: #3B4455;\n",
              "      fill: #D2E3FC;\n",
              "    }\n",
              "\n",
              "    [theme=dark] .colab-df-convert:hover {\n",
              "      background-color: #434B5C;\n",
              "      box-shadow: 0px 1px 3px 1px rgba(0, 0, 0, 0.15);\n",
              "      filter: drop-shadow(0px 1px 2px rgba(0, 0, 0, 0.3));\n",
              "      fill: #FFFFFF;\n",
              "    }\n",
              "  </style>\n",
              "\n",
              "      <script>\n",
              "        const buttonEl =\n",
              "          document.querySelector('#df-c4bf9bff-70dd-4d5d-8bbe-6ead9cc4e142 button.colab-df-convert');\n",
              "        buttonEl.style.display =\n",
              "          google.colab.kernel.accessAllowed ? 'block' : 'none';\n",
              "\n",
              "        async function convertToInteractive(key) {\n",
              "          const element = document.querySelector('#df-c4bf9bff-70dd-4d5d-8bbe-6ead9cc4e142');\n",
              "          const dataTable =\n",
              "            await google.colab.kernel.invokeFunction('convertToInteractive',\n",
              "                                                     [key], {});\n",
              "          if (!dataTable) return;\n",
              "\n",
              "          const docLinkHtml = 'Like what you see? Visit the ' +\n",
              "            '<a target=\"_blank\" href=https://colab.research.google.com/notebooks/data_table.ipynb>data table notebook</a>'\n",
              "            + ' to learn more about interactive tables.';\n",
              "          element.innerHTML = '';\n",
              "          dataTable['output_type'] = 'display_data';\n",
              "          await google.colab.output.renderOutput(dataTable, element);\n",
              "          const docLink = document.createElement('div');\n",
              "          docLink.innerHTML = docLinkHtml;\n",
              "          element.appendChild(docLink);\n",
              "        }\n",
              "      </script>\n",
              "    </div>\n",
              "  </div>\n",
              "  "
            ]
          },
          "metadata": {},
          "execution_count": 246
        }
      ]
    },
    {
      "cell_type": "markdown",
      "source": [
        "It is evident that we have outliers from the variations of the datapoints at the 50th and 75th percentiles"
      ],
      "metadata": {
        "id": "lTo4Aoixm4dm"
      }
    },
    {
      "cell_type": "markdown",
      "source": [
        "Fixing outliers by filling with the medians any datapoint thats above the 75th percentile "
      ],
      "metadata": {
        "id": "7ZBCxT61nSmJ"
      }
    },
    {
      "cell_type": "code",
      "source": [
        "renamed_columns['Machine cycle time'] = np.where(renamed_columns['Machine cycle time'] > 225.000000, 110.000000, renamed_columns['Machine cycle time'])\n",
        "renamed_columns['Minimum main memory'] = np.where(renamed_columns['Minimum main memory'] > 4000.000000, 2000.000000, renamed_columns['Minimum main memory'])\n",
        "renamed_columns['Maximum main memory'] = np.where(renamed_columns['Maximum main memory'] > 16000.000000, 8000.000000, renamed_columns['Maximum main memory'])\n",
        "renamed_columns['Cache memory'] = np.where(renamed_columns['Cache memory'] > 32.000000, 8.000000, renamed_columns['Cache memory'])\n",
        "renamed_columns['Minimum channel'] = np.where(renamed_columns['Minimum channel'] > 6.000000, 2.000000, renamed_columns['Minimum channel'])\n",
        "renamed_columns['Maximum channels'] = np.where(renamed_columns['Maximum channels'] > 24.000000, 8.000000, renamed_columns['Maximum channels'])\n",
        "renamed_columns['Published relative performance'] = np.where(renamed_columns['Published relative performance'] > 111.500000, 49.500000, renamed_columns['Published relative performance'])\n",
        "renamed_columns['Estimated relative performance'] = np.where(renamed_columns['Estimated relative performance'] > 99.500000, 45.000000, renamed_columns['Estimated relative performance'])"
      ],
      "metadata": {
        "id": "GbBRaQBB35yB"
      },
      "execution_count": 247,
      "outputs": []
    },
    {
      "cell_type": "markdown",
      "source": [
        "Checking for outliers to confirm that we have a normalized distribution"
      ],
      "metadata": {
        "id": "Q5mBH1FDnkU-"
      }
    },
    {
      "cell_type": "code",
      "source": [
        "renamed_columns.describe()"
      ],
      "metadata": {
        "colab": {
          "base_uri": "https://localhost:8080/",
          "height": 362
        },
        "id": "IpFYwY6S92Kl",
        "outputId": "25a8eefa-533c-456b-fb26-6a28afd9db74"
      },
      "execution_count": 248,
      "outputs": [
        {
          "output_type": "execute_result",
          "data": {
            "text/plain": [
              "       Machine cycle time  Minimum main memory  Maximum main memory  \\\n",
              "count          208.000000           208.000000           208.000000   \n",
              "mean            94.778846          1642.653846          7660.846154   \n",
              "std             50.255955          1065.822472          4628.230189   \n",
              "min             17.000000            64.000000            64.000000   \n",
              "25%             50.000000           768.000000          4000.000000   \n",
              "50%            110.000000          2000.000000          8000.000000   \n",
              "75%            110.000000          2000.000000          8000.000000   \n",
              "max            225.000000          4000.000000         16000.000000   \n",
              "\n",
              "       Cache memory  Minimum channel  Maximum channels  \\\n",
              "count    208.000000       208.000000        208.000000   \n",
              "mean       9.144231         2.120192          9.254808   \n",
              "std       10.408022         1.538547          6.821922   \n",
              "min        0.000000         0.000000          0.000000   \n",
              "25%        0.000000         1.000000          5.000000   \n",
              "50%        8.000000         2.000000          8.000000   \n",
              "75%        8.000000         3.000000         12.000000   \n",
              "max       32.000000         6.000000         24.000000   \n",
              "\n",
              "       Published relative performance  Estimated relative performance  \n",
              "count                      208.000000                      208.000000  \n",
              "mean                        43.447115                       41.846154  \n",
              "std                         21.022236                       17.977049  \n",
              "min                          6.000000                       15.000000  \n",
              "25%                         27.000000                       28.000000  \n",
              "50%                         49.250000                       45.000000  \n",
              "75%                         49.625000                       45.000000  \n",
              "max                        111.000000                       99.000000  "
            ],
            "text/html": [
              "\n",
              "  <div id=\"df-782282e0-c20b-45cc-beed-fc3e8274a152\">\n",
              "    <div class=\"colab-df-container\">\n",
              "      <div>\n",
              "<style scoped>\n",
              "    .dataframe tbody tr th:only-of-type {\n",
              "        vertical-align: middle;\n",
              "    }\n",
              "\n",
              "    .dataframe tbody tr th {\n",
              "        vertical-align: top;\n",
              "    }\n",
              "\n",
              "    .dataframe thead th {\n",
              "        text-align: right;\n",
              "    }\n",
              "</style>\n",
              "<table border=\"1\" class=\"dataframe\">\n",
              "  <thead>\n",
              "    <tr style=\"text-align: right;\">\n",
              "      <th></th>\n",
              "      <th>Machine cycle time</th>\n",
              "      <th>Minimum main memory</th>\n",
              "      <th>Maximum main memory</th>\n",
              "      <th>Cache memory</th>\n",
              "      <th>Minimum channel</th>\n",
              "      <th>Maximum channels</th>\n",
              "      <th>Published relative performance</th>\n",
              "      <th>Estimated relative performance</th>\n",
              "    </tr>\n",
              "  </thead>\n",
              "  <tbody>\n",
              "    <tr>\n",
              "      <th>count</th>\n",
              "      <td>208.000000</td>\n",
              "      <td>208.000000</td>\n",
              "      <td>208.000000</td>\n",
              "      <td>208.000000</td>\n",
              "      <td>208.000000</td>\n",
              "      <td>208.000000</td>\n",
              "      <td>208.000000</td>\n",
              "      <td>208.000000</td>\n",
              "    </tr>\n",
              "    <tr>\n",
              "      <th>mean</th>\n",
              "      <td>94.778846</td>\n",
              "      <td>1642.653846</td>\n",
              "      <td>7660.846154</td>\n",
              "      <td>9.144231</td>\n",
              "      <td>2.120192</td>\n",
              "      <td>9.254808</td>\n",
              "      <td>43.447115</td>\n",
              "      <td>41.846154</td>\n",
              "    </tr>\n",
              "    <tr>\n",
              "      <th>std</th>\n",
              "      <td>50.255955</td>\n",
              "      <td>1065.822472</td>\n",
              "      <td>4628.230189</td>\n",
              "      <td>10.408022</td>\n",
              "      <td>1.538547</td>\n",
              "      <td>6.821922</td>\n",
              "      <td>21.022236</td>\n",
              "      <td>17.977049</td>\n",
              "    </tr>\n",
              "    <tr>\n",
              "      <th>min</th>\n",
              "      <td>17.000000</td>\n",
              "      <td>64.000000</td>\n",
              "      <td>64.000000</td>\n",
              "      <td>0.000000</td>\n",
              "      <td>0.000000</td>\n",
              "      <td>0.000000</td>\n",
              "      <td>6.000000</td>\n",
              "      <td>15.000000</td>\n",
              "    </tr>\n",
              "    <tr>\n",
              "      <th>25%</th>\n",
              "      <td>50.000000</td>\n",
              "      <td>768.000000</td>\n",
              "      <td>4000.000000</td>\n",
              "      <td>0.000000</td>\n",
              "      <td>1.000000</td>\n",
              "      <td>5.000000</td>\n",
              "      <td>27.000000</td>\n",
              "      <td>28.000000</td>\n",
              "    </tr>\n",
              "    <tr>\n",
              "      <th>50%</th>\n",
              "      <td>110.000000</td>\n",
              "      <td>2000.000000</td>\n",
              "      <td>8000.000000</td>\n",
              "      <td>8.000000</td>\n",
              "      <td>2.000000</td>\n",
              "      <td>8.000000</td>\n",
              "      <td>49.250000</td>\n",
              "      <td>45.000000</td>\n",
              "    </tr>\n",
              "    <tr>\n",
              "      <th>75%</th>\n",
              "      <td>110.000000</td>\n",
              "      <td>2000.000000</td>\n",
              "      <td>8000.000000</td>\n",
              "      <td>8.000000</td>\n",
              "      <td>3.000000</td>\n",
              "      <td>12.000000</td>\n",
              "      <td>49.625000</td>\n",
              "      <td>45.000000</td>\n",
              "    </tr>\n",
              "    <tr>\n",
              "      <th>max</th>\n",
              "      <td>225.000000</td>\n",
              "      <td>4000.000000</td>\n",
              "      <td>16000.000000</td>\n",
              "      <td>32.000000</td>\n",
              "      <td>6.000000</td>\n",
              "      <td>24.000000</td>\n",
              "      <td>111.000000</td>\n",
              "      <td>99.000000</td>\n",
              "    </tr>\n",
              "  </tbody>\n",
              "</table>\n",
              "</div>\n",
              "      <button class=\"colab-df-convert\" onclick=\"convertToInteractive('df-782282e0-c20b-45cc-beed-fc3e8274a152')\"\n",
              "              title=\"Convert this dataframe to an interactive table.\"\n",
              "              style=\"display:none;\">\n",
              "        \n",
              "  <svg xmlns=\"http://www.w3.org/2000/svg\" height=\"24px\"viewBox=\"0 0 24 24\"\n",
              "       width=\"24px\">\n",
              "    <path d=\"M0 0h24v24H0V0z\" fill=\"none\"/>\n",
              "    <path d=\"M18.56 5.44l.94 2.06.94-2.06 2.06-.94-2.06-.94-.94-2.06-.94 2.06-2.06.94zm-11 1L8.5 8.5l.94-2.06 2.06-.94-2.06-.94L8.5 2.5l-.94 2.06-2.06.94zm10 10l.94 2.06.94-2.06 2.06-.94-2.06-.94-.94-2.06-.94 2.06-2.06.94z\"/><path d=\"M17.41 7.96l-1.37-1.37c-.4-.4-.92-.59-1.43-.59-.52 0-1.04.2-1.43.59L10.3 9.45l-7.72 7.72c-.78.78-.78 2.05 0 2.83L4 21.41c.39.39.9.59 1.41.59.51 0 1.02-.2 1.41-.59l7.78-7.78 2.81-2.81c.8-.78.8-2.07 0-2.86zM5.41 20L4 18.59l7.72-7.72 1.47 1.35L5.41 20z\"/>\n",
              "  </svg>\n",
              "      </button>\n",
              "      \n",
              "  <style>\n",
              "    .colab-df-container {\n",
              "      display:flex;\n",
              "      flex-wrap:wrap;\n",
              "      gap: 12px;\n",
              "    }\n",
              "\n",
              "    .colab-df-convert {\n",
              "      background-color: #E8F0FE;\n",
              "      border: none;\n",
              "      border-radius: 50%;\n",
              "      cursor: pointer;\n",
              "      display: none;\n",
              "      fill: #1967D2;\n",
              "      height: 32px;\n",
              "      padding: 0 0 0 0;\n",
              "      width: 32px;\n",
              "    }\n",
              "\n",
              "    .colab-df-convert:hover {\n",
              "      background-color: #E2EBFA;\n",
              "      box-shadow: 0px 1px 2px rgba(60, 64, 67, 0.3), 0px 1px 3px 1px rgba(60, 64, 67, 0.15);\n",
              "      fill: #174EA6;\n",
              "    }\n",
              "\n",
              "    [theme=dark] .colab-df-convert {\n",
              "      background-color: #3B4455;\n",
              "      fill: #D2E3FC;\n",
              "    }\n",
              "\n",
              "    [theme=dark] .colab-df-convert:hover {\n",
              "      background-color: #434B5C;\n",
              "      box-shadow: 0px 1px 3px 1px rgba(0, 0, 0, 0.15);\n",
              "      filter: drop-shadow(0px 1px 2px rgba(0, 0, 0, 0.3));\n",
              "      fill: #FFFFFF;\n",
              "    }\n",
              "  </style>\n",
              "\n",
              "      <script>\n",
              "        const buttonEl =\n",
              "          document.querySelector('#df-782282e0-c20b-45cc-beed-fc3e8274a152 button.colab-df-convert');\n",
              "        buttonEl.style.display =\n",
              "          google.colab.kernel.accessAllowed ? 'block' : 'none';\n",
              "\n",
              "        async function convertToInteractive(key) {\n",
              "          const element = document.querySelector('#df-782282e0-c20b-45cc-beed-fc3e8274a152');\n",
              "          const dataTable =\n",
              "            await google.colab.kernel.invokeFunction('convertToInteractive',\n",
              "                                                     [key], {});\n",
              "          if (!dataTable) return;\n",
              "\n",
              "          const docLinkHtml = 'Like what you see? Visit the ' +\n",
              "            '<a target=\"_blank\" href=https://colab.research.google.com/notebooks/data_table.ipynb>data table notebook</a>'\n",
              "            + ' to learn more about interactive tables.';\n",
              "          element.innerHTML = '';\n",
              "          dataTable['output_type'] = 'display_data';\n",
              "          await google.colab.output.renderOutput(dataTable, element);\n",
              "          const docLink = document.createElement('div');\n",
              "          docLink.innerHTML = docLinkHtml;\n",
              "          element.appendChild(docLink);\n",
              "        }\n",
              "      </script>\n",
              "    </div>\n",
              "  </div>\n",
              "  "
            ]
          },
          "metadata": {},
          "execution_count": 248
        }
      ]
    },
    {
      "cell_type": "markdown",
      "source": [
        "Dropping the less important columns that is not necessary for performing our regression analysis."
      ],
      "metadata": {
        "id": "5GIpGvtcnvFV"
      }
    },
    {
      "cell_type": "code",
      "source": [
        "renamed_columns_up = renamed_columns.drop(columns=['Vendor name','Model Name'])\n",
        "renamed_columns_up"
      ],
      "metadata": {
        "colab": {
          "base_uri": "https://localhost:8080/",
          "height": 485
        },
        "id": "Th5nudDmQEIu",
        "outputId": "d65bea4d-49ea-4407-ed42-7802ed8d411e"
      },
      "execution_count": 249,
      "outputs": [
        {
          "output_type": "execute_result",
          "data": {
            "text/plain": [
              "     Machine cycle time  Minimum main memory  Maximum main memory  \\\n",
              "0                  29.0               2000.0               8000.0   \n",
              "1                  29.0               2000.0               8000.0   \n",
              "2                  29.0               2000.0               8000.0   \n",
              "3                  29.0               2000.0              16000.0   \n",
              "4                  26.0               2000.0               8000.0   \n",
              "..                  ...                  ...                  ...   \n",
              "203               124.0               1000.0               8000.0   \n",
              "204                98.0               1000.0               8000.0   \n",
              "205               125.0               2000.0               8000.0   \n",
              "206               110.0                512.0               8000.0   \n",
              "207               110.0               1000.0               4000.0   \n",
              "\n",
              "     Cache memory  Minimum channel  Maximum channels  \\\n",
              "0            32.0              2.0               8.0   \n",
              "1            32.0              2.0               8.0   \n",
              "2            32.0              2.0               8.0   \n",
              "3            32.0              2.0              16.0   \n",
              "4             8.0              2.0               8.0   \n",
              "..            ...              ...               ...   \n",
              "203           0.0              1.0               8.0   \n",
              "204          32.0              2.0               8.0   \n",
              "205           0.0              2.0              14.0   \n",
              "206          32.0              0.0               0.0   \n",
              "207           0.0              0.0               0.0   \n",
              "\n",
              "     Published relative performance  Estimated relative performance  \n",
              "0                              49.5                            45.0  \n",
              "1                              49.5                            45.0  \n",
              "2                              49.5                            45.0  \n",
              "3                              49.5                            45.0  \n",
              "4                              49.5                            45.0  \n",
              "..                              ...                             ...  \n",
              "203                            42.0                            37.0  \n",
              "204                            46.0                            50.0  \n",
              "205                            52.0                            41.0  \n",
              "206                            67.0                            47.0  \n",
              "207                            45.0                            25.0  \n",
              "\n",
              "[208 rows x 8 columns]"
            ],
            "text/html": [
              "\n",
              "  <div id=\"df-51e69699-b87e-4dfa-9606-8ce97098d9e1\">\n",
              "    <div class=\"colab-df-container\">\n",
              "      <div>\n",
              "<style scoped>\n",
              "    .dataframe tbody tr th:only-of-type {\n",
              "        vertical-align: middle;\n",
              "    }\n",
              "\n",
              "    .dataframe tbody tr th {\n",
              "        vertical-align: top;\n",
              "    }\n",
              "\n",
              "    .dataframe thead th {\n",
              "        text-align: right;\n",
              "    }\n",
              "</style>\n",
              "<table border=\"1\" class=\"dataframe\">\n",
              "  <thead>\n",
              "    <tr style=\"text-align: right;\">\n",
              "      <th></th>\n",
              "      <th>Machine cycle time</th>\n",
              "      <th>Minimum main memory</th>\n",
              "      <th>Maximum main memory</th>\n",
              "      <th>Cache memory</th>\n",
              "      <th>Minimum channel</th>\n",
              "      <th>Maximum channels</th>\n",
              "      <th>Published relative performance</th>\n",
              "      <th>Estimated relative performance</th>\n",
              "    </tr>\n",
              "  </thead>\n",
              "  <tbody>\n",
              "    <tr>\n",
              "      <th>0</th>\n",
              "      <td>29.0</td>\n",
              "      <td>2000.0</td>\n",
              "      <td>8000.0</td>\n",
              "      <td>32.0</td>\n",
              "      <td>2.0</td>\n",
              "      <td>8.0</td>\n",
              "      <td>49.5</td>\n",
              "      <td>45.0</td>\n",
              "    </tr>\n",
              "    <tr>\n",
              "      <th>1</th>\n",
              "      <td>29.0</td>\n",
              "      <td>2000.0</td>\n",
              "      <td>8000.0</td>\n",
              "      <td>32.0</td>\n",
              "      <td>2.0</td>\n",
              "      <td>8.0</td>\n",
              "      <td>49.5</td>\n",
              "      <td>45.0</td>\n",
              "    </tr>\n",
              "    <tr>\n",
              "      <th>2</th>\n",
              "      <td>29.0</td>\n",
              "      <td>2000.0</td>\n",
              "      <td>8000.0</td>\n",
              "      <td>32.0</td>\n",
              "      <td>2.0</td>\n",
              "      <td>8.0</td>\n",
              "      <td>49.5</td>\n",
              "      <td>45.0</td>\n",
              "    </tr>\n",
              "    <tr>\n",
              "      <th>3</th>\n",
              "      <td>29.0</td>\n",
              "      <td>2000.0</td>\n",
              "      <td>16000.0</td>\n",
              "      <td>32.0</td>\n",
              "      <td>2.0</td>\n",
              "      <td>16.0</td>\n",
              "      <td>49.5</td>\n",
              "      <td>45.0</td>\n",
              "    </tr>\n",
              "    <tr>\n",
              "      <th>4</th>\n",
              "      <td>26.0</td>\n",
              "      <td>2000.0</td>\n",
              "      <td>8000.0</td>\n",
              "      <td>8.0</td>\n",
              "      <td>2.0</td>\n",
              "      <td>8.0</td>\n",
              "      <td>49.5</td>\n",
              "      <td>45.0</td>\n",
              "    </tr>\n",
              "    <tr>\n",
              "      <th>...</th>\n",
              "      <td>...</td>\n",
              "      <td>...</td>\n",
              "      <td>...</td>\n",
              "      <td>...</td>\n",
              "      <td>...</td>\n",
              "      <td>...</td>\n",
              "      <td>...</td>\n",
              "      <td>...</td>\n",
              "    </tr>\n",
              "    <tr>\n",
              "      <th>203</th>\n",
              "      <td>124.0</td>\n",
              "      <td>1000.0</td>\n",
              "      <td>8000.0</td>\n",
              "      <td>0.0</td>\n",
              "      <td>1.0</td>\n",
              "      <td>8.0</td>\n",
              "      <td>42.0</td>\n",
              "      <td>37.0</td>\n",
              "    </tr>\n",
              "    <tr>\n",
              "      <th>204</th>\n",
              "      <td>98.0</td>\n",
              "      <td>1000.0</td>\n",
              "      <td>8000.0</td>\n",
              "      <td>32.0</td>\n",
              "      <td>2.0</td>\n",
              "      <td>8.0</td>\n",
              "      <td>46.0</td>\n",
              "      <td>50.0</td>\n",
              "    </tr>\n",
              "    <tr>\n",
              "      <th>205</th>\n",
              "      <td>125.0</td>\n",
              "      <td>2000.0</td>\n",
              "      <td>8000.0</td>\n",
              "      <td>0.0</td>\n",
              "      <td>2.0</td>\n",
              "      <td>14.0</td>\n",
              "      <td>52.0</td>\n",
              "      <td>41.0</td>\n",
              "    </tr>\n",
              "    <tr>\n",
              "      <th>206</th>\n",
              "      <td>110.0</td>\n",
              "      <td>512.0</td>\n",
              "      <td>8000.0</td>\n",
              "      <td>32.0</td>\n",
              "      <td>0.0</td>\n",
              "      <td>0.0</td>\n",
              "      <td>67.0</td>\n",
              "      <td>47.0</td>\n",
              "    </tr>\n",
              "    <tr>\n",
              "      <th>207</th>\n",
              "      <td>110.0</td>\n",
              "      <td>1000.0</td>\n",
              "      <td>4000.0</td>\n",
              "      <td>0.0</td>\n",
              "      <td>0.0</td>\n",
              "      <td>0.0</td>\n",
              "      <td>45.0</td>\n",
              "      <td>25.0</td>\n",
              "    </tr>\n",
              "  </tbody>\n",
              "</table>\n",
              "<p>208 rows × 8 columns</p>\n",
              "</div>\n",
              "      <button class=\"colab-df-convert\" onclick=\"convertToInteractive('df-51e69699-b87e-4dfa-9606-8ce97098d9e1')\"\n",
              "              title=\"Convert this dataframe to an interactive table.\"\n",
              "              style=\"display:none;\">\n",
              "        \n",
              "  <svg xmlns=\"http://www.w3.org/2000/svg\" height=\"24px\"viewBox=\"0 0 24 24\"\n",
              "       width=\"24px\">\n",
              "    <path d=\"M0 0h24v24H0V0z\" fill=\"none\"/>\n",
              "    <path d=\"M18.56 5.44l.94 2.06.94-2.06 2.06-.94-2.06-.94-.94-2.06-.94 2.06-2.06.94zm-11 1L8.5 8.5l.94-2.06 2.06-.94-2.06-.94L8.5 2.5l-.94 2.06-2.06.94zm10 10l.94 2.06.94-2.06 2.06-.94-2.06-.94-.94-2.06-.94 2.06-2.06.94z\"/><path d=\"M17.41 7.96l-1.37-1.37c-.4-.4-.92-.59-1.43-.59-.52 0-1.04.2-1.43.59L10.3 9.45l-7.72 7.72c-.78.78-.78 2.05 0 2.83L4 21.41c.39.39.9.59 1.41.59.51 0 1.02-.2 1.41-.59l7.78-7.78 2.81-2.81c.8-.78.8-2.07 0-2.86zM5.41 20L4 18.59l7.72-7.72 1.47 1.35L5.41 20z\"/>\n",
              "  </svg>\n",
              "      </button>\n",
              "      \n",
              "  <style>\n",
              "    .colab-df-container {\n",
              "      display:flex;\n",
              "      flex-wrap:wrap;\n",
              "      gap: 12px;\n",
              "    }\n",
              "\n",
              "    .colab-df-convert {\n",
              "      background-color: #E8F0FE;\n",
              "      border: none;\n",
              "      border-radius: 50%;\n",
              "      cursor: pointer;\n",
              "      display: none;\n",
              "      fill: #1967D2;\n",
              "      height: 32px;\n",
              "      padding: 0 0 0 0;\n",
              "      width: 32px;\n",
              "    }\n",
              "\n",
              "    .colab-df-convert:hover {\n",
              "      background-color: #E2EBFA;\n",
              "      box-shadow: 0px 1px 2px rgba(60, 64, 67, 0.3), 0px 1px 3px 1px rgba(60, 64, 67, 0.15);\n",
              "      fill: #174EA6;\n",
              "    }\n",
              "\n",
              "    [theme=dark] .colab-df-convert {\n",
              "      background-color: #3B4455;\n",
              "      fill: #D2E3FC;\n",
              "    }\n",
              "\n",
              "    [theme=dark] .colab-df-convert:hover {\n",
              "      background-color: #434B5C;\n",
              "      box-shadow: 0px 1px 3px 1px rgba(0, 0, 0, 0.15);\n",
              "      filter: drop-shadow(0px 1px 2px rgba(0, 0, 0, 0.3));\n",
              "      fill: #FFFFFF;\n",
              "    }\n",
              "  </style>\n",
              "\n",
              "      <script>\n",
              "        const buttonEl =\n",
              "          document.querySelector('#df-51e69699-b87e-4dfa-9606-8ce97098d9e1 button.colab-df-convert');\n",
              "        buttonEl.style.display =\n",
              "          google.colab.kernel.accessAllowed ? 'block' : 'none';\n",
              "\n",
              "        async function convertToInteractive(key) {\n",
              "          const element = document.querySelector('#df-51e69699-b87e-4dfa-9606-8ce97098d9e1');\n",
              "          const dataTable =\n",
              "            await google.colab.kernel.invokeFunction('convertToInteractive',\n",
              "                                                     [key], {});\n",
              "          if (!dataTable) return;\n",
              "\n",
              "          const docLinkHtml = 'Like what you see? Visit the ' +\n",
              "            '<a target=\"_blank\" href=https://colab.research.google.com/notebooks/data_table.ipynb>data table notebook</a>'\n",
              "            + ' to learn more about interactive tables.';\n",
              "          element.innerHTML = '';\n",
              "          dataTable['output_type'] = 'display_data';\n",
              "          await google.colab.output.renderOutput(dataTable, element);\n",
              "          const docLink = document.createElement('div');\n",
              "          docLink.innerHTML = docLinkHtml;\n",
              "          element.appendChild(docLink);\n",
              "        }\n",
              "      </script>\n",
              "    </div>\n",
              "  </div>\n",
              "  "
            ]
          },
          "metadata": {},
          "execution_count": 249
        }
      ]
    },
    {
      "cell_type": "markdown",
      "source": [
        "Checking for the relationship between the dependent and independent variables and also, the relationship among the independent variables to avoid multicollinearity."
      ],
      "metadata": {
        "id": "6-hkYm0FoL3N"
      }
    },
    {
      "cell_type": "code",
      "source": [
        "plt.figure(figsize=(15,10))\n",
        "sns.heatmap(renamed_columns_up.corr(), annot=True)"
      ],
      "metadata": {
        "colab": {
          "base_uri": "https://localhost:8080/",
          "height": 742
        },
        "id": "Y_aU65BGLd7M",
        "outputId": "7de3dd79-1da5-481c-bb0d-0c5ac661c3fd"
      },
      "execution_count": 250,
      "outputs": [
        {
          "output_type": "execute_result",
          "data": {
            "text/plain": [
              "<matplotlib.axes._subplots.AxesSubplot at 0x7fc89a3be350>"
            ]
          },
          "metadata": {},
          "execution_count": 250
        },
        {
          "output_type": "display_data",
          "data": {
            "text/plain": [
              "<Figure size 1080x720 with 2 Axes>"
            ],
            "image/png": "[encoded data removed]"
          },
          "metadata": {}
        }
      ]
    },
    {
      "cell_type": "markdown",
      "source": [
        "splitting dataset into dependent and independent variables"
      ],
      "metadata": {
        "id": "yEt3Q23vqi1n"
      }
    },
    {
      "cell_type": "code",
      "source": [
        "y = renamed_columns_up['Estimated relative performance']\n",
        "x = renamed_columns_up.drop(columns=['Estimated relative performance','Machine cycle time','Cache memory','Minimum channel','Maximum channels','Published relative performance'], axis=1)"
      ],
      "metadata": {
        "id": "umNw5TATL2vy"
      },
      "execution_count": 251,
      "outputs": []
    },
    {
      "cell_type": "markdown",
      "source": [
        "Splitting the dataset into train and test and then redoing the split for validation test"
      ],
      "metadata": {
        "id": "_1bxoRHLqrOp"
      }
    },
    {
      "cell_type": "code",
      "source": [
        "X_train, X_test, y_train, y_test = train_test_split(x, y, test_size=.20, random_state=45)\n",
        "\n",
        "X_train, X_val, y_train, y_val = train_test_split(X_train, y_train, test_size=0.25, random_state=1)"
      ],
      "metadata": {
        "id": "FBqSHfoZNCmw"
      },
      "execution_count": 252,
      "outputs": []
    },
    {
      "cell_type": "markdown",
      "source": [
        "Normalizing dataset to avoid bias"
      ],
      "metadata": {
        "id": "UQUaD5eZq0nL"
      }
    },
    {
      "cell_type": "code",
      "source": [
        "new_norm = StandardScaler()\n",
        "norm_data = new_norm.fit_transform(X_train, y_train)"
      ],
      "metadata": {
        "id": "BeAytkzQNg2v"
      },
      "execution_count": 253,
      "outputs": []
    },
    {
      "cell_type": "markdown",
      "source": [
        "Depicting dimensionality reduction techniques using Random Forest.This shows the important variables that affect the dependent variable.All other variables should be dropped if found unimportant."
      ],
      "metadata": {
        "id": "sH8HA6fsrA1M"
      }
    },
    {
      "cell_type": "code",
      "source": [
        "model = RandomForestRegressor(random_state=1, max_depth=4)\n",
        "model.fit(renamed_columns_up, x)"
      ],
      "metadata": {
        "colab": {
          "base_uri": "https://localhost:8080/"
        },
        "id": "-mqTuhRlORea",
        "outputId": "eda1606e-4b9e-4d41-bbe9-e1f17dd29829"
      },
      "execution_count": 254,
      "outputs": [
        {
          "output_type": "execute_result",
          "data": {
            "text/plain": [
              "RandomForestRegressor(max_depth=4, random_state=1)"
            ]
          },
          "metadata": {},
          "execution_count": 254
        }
      ]
    },
    {
      "cell_type": "code",
      "source": [
        "features = renamed_columns_up.columns\n",
        "importances = model.feature_importances_\n",
        "indices = np.argsort(importances)[-2:]\n",
        "plt.title('Feature Importances')\n",
        "plt.barh(range(len(indices)), importances[indices], color='g', align='center')\n",
        "plt.yticks(range(len(indices)), [features[i] for i in indices])\n",
        "plt.xlabel('Relative Importance')\n",
        "plt.show()"
      ],
      "metadata": {
        "colab": {
          "base_uri": "https://localhost:8080/",
          "height": 376
        },
        "id": "c-nQcJ3kSUZM",
        "outputId": "39367cfb-a83c-4713-fa9b-e90b4e4be685"
      },
      "execution_count": 255,
      "outputs": [
        {
          "output_type": "display_data",
          "data": {
            "text/plain": [
              "<Figure size 576x396 with 1 Axes>"
            ],
            "image/png": "[encoded data removed]"
          },
          "metadata": {}
        }
      ]
    },
    {
      "cell_type": "markdown",
      "source": [
        "From the above random forest regressor graph, It is clear that the Maximum main memory and Minimum main memory are the only important variables for predicting the estimated relative performance.Therefore, we would be using just these two variables for our predictions."
      ],
      "metadata": {
        "id": "9l9LY1E4rXMf"
      }
    },
    {
      "cell_type": "markdown",
      "source": [
        "Fitting the Linear regression against the validation datasets to check how the model can learn from the data"
      ],
      "metadata": {
        "id": "cE6vWi4rsTae"
      }
    },
    {
      "cell_type": "code",
      "source": [
        "model = LinearRegression()\n",
        "power_output = model.fit(X_val, y_val)"
      ],
      "metadata": {
        "id": "5-PuUMzYStdA"
      },
      "execution_count": 256,
      "outputs": []
    },
    {
      "cell_type": "markdown",
      "source": [
        "Getting our R-squared score."
      ],
      "metadata": {
        "id": "_j3LqW6eswTM"
      }
    },
    {
      "cell_type": "code",
      "source": [
        "coef_deter = power_output.score(X_val, y_val)\n",
        "coef_deter"
      ],
      "metadata": {
        "colab": {
          "base_uri": "https://localhost:8080/"
        },
        "id": "1uxom1G1YNZ3",
        "outputId": "9d8f0ba8-8094-47fb-ac55-f5530f2710a0"
      },
      "execution_count": 257,
      "outputs": [
        {
          "output_type": "execute_result",
          "data": {
            "text/plain": [
              "0.694093381951275"
            ]
          },
          "metadata": {},
          "execution_count": 257
        }
      ]
    },
    {
      "cell_type": "markdown",
      "source": [
        "The r-squared score shows how well a model learns from its train dataset"
      ],
      "metadata": {
        "id": "ccneR0w52QZo"
      }
    },
    {
      "cell_type": "markdown",
      "source": [
        "Getting our adjusted R-squared score"
      ],
      "metadata": {
        "id": "ktpJy4eos3Hr"
      }
    },
    {
      "cell_type": "code",
      "source": [
        "1 - (1-model.score(X_val, y_val))*(len(y_val)-1)/(len(y_val)-X_val.shape[1]-1)"
      ],
      "metadata": {
        "colab": {
          "base_uri": "https://localhost:8080/"
        },
        "id": "cRFlRzqYYrzR",
        "outputId": "15a3c0cc-77ac-4152-e271-9b22be9f578b"
      },
      "execution_count": 258,
      "outputs": [
        {
          "output_type": "execute_result",
          "data": {
            "text/plain": [
              "0.6784058630769814"
            ]
          },
          "metadata": {},
          "execution_count": 258
        }
      ]
    },
    {
      "cell_type": "markdown",
      "source": [
        "The adjusted r-squared score also shows how well a model learns from its training dataset"
      ],
      "metadata": {
        "id": "uQi1LU-42eHp"
      }
    },
    {
      "cell_type": "code",
      "source": [
        "intercept = model.coef_\n",
        "intercept"
      ],
      "metadata": {
        "colab": {
          "base_uri": "https://localhost:8080/"
        },
        "id": "e2oEGS80YxRy",
        "outputId": "167ed215-082f-42e1-9694-73e9a1ec1f42"
      },
      "execution_count": 259,
      "outputs": [
        {
          "output_type": "execute_result",
          "data": {
            "text/plain": [
              "array([0.00627443, 0.00202395])"
            ]
          },
          "metadata": {},
          "execution_count": 259
        }
      ]
    },
    {
      "cell_type": "markdown",
      "source": [
        "The coefficient is measurement used to explain how much variability of our dependent variable can be explained by our independent variable"
      ],
      "metadata": {
        "id": "Qh79T1075pu9"
      }
    },
    {
      "cell_type": "code",
      "source": [
        "y_predict = power_output.predict(X_test)"
      ],
      "metadata": {
        "id": "fffE9cd1Y41y"
      },
      "execution_count": 260,
      "outputs": []
    },
    {
      "cell_type": "markdown",
      "source": [
        "This shows the r-squared score and error scores for the validation dataset on the linear regression model"
      ],
      "metadata": {
        "id": "ZBg88SqA6hKV"
      }
    },
    {
      "cell_type": "code",
      "source": [
        "print(\"MAE : \",mean_absolute_error(y_test, y_predict))\n",
        "print(\"MSE : \",mean_squared_error(y_test, y_predict))\n",
        "print(\"R2 score : \",r2_score(y_test, y_predict))"
      ],
      "metadata": {
        "colab": {
          "base_uri": "https://localhost:8080/"
        },
        "id": "mB6mLr0CZAGV",
        "outputId": "cfc71785-666f-4c6c-e5f3-fbc407576fc3"
      },
      "execution_count": 261,
      "outputs": [
        {
          "output_type": "stream",
          "name": "stdout",
          "text": [
            "MAE :  5.85822609086811\n",
            "MSE :  86.5829555184325\n",
            "R2 score :  0.7419922469888323\n"
          ]
        }
      ]
    },
    {
      "cell_type": "markdown",
      "source": [
        "Testing the linear regression model with the test dataset to know how good the model can be used to predict the estimated relative performance by comparing the train score against the test score.If the difference between the train and test score is not far apart,it shows that the model is working, but in a case where the difference is a lot,then there is the need to do a pre-diagnosis. "
      ],
      "metadata": {
        "id": "CJDBRW5U9s7K"
      }
    },
    {
      "cell_type": "markdown",
      "source": [
        "Plotting a histogram that would show how distributed our data is."
      ],
      "metadata": {
        "id": "8MRdtRP-_yen"
      }
    },
    {
      "cell_type": "code",
      "source": [
        "model = LinearRegression()\n",
        "visualizer = ResidualsPlot(model, hist=True, qqplot=False)\n",
        "\n",
        "visualizer.fit(X_train, y_train)  \n",
        "visualizer.score(X_test, y_test)  \n",
        "visualizer.show()"
      ],
      "metadata": {
        "colab": {
          "base_uri": "https://localhost:8080/",
          "height": 394
        },
        "id": "GLaYUgiPZacn",
        "outputId": "500ec1bf-f91d-4dc7-d063-ee9bf35ab156"
      },
      "execution_count": 262,
      "outputs": [
        {
          "output_type": "display_data",
          "data": {
            "text/plain": [
              "<Figure size 576x396 with 2 Axes>"
            ],
            "image/png": "[encoded data removed]"
          },
          "metadata": {}
        },
        {
          "output_type": "execute_result",
          "data": {
            "text/plain": [
              "<matplotlib.axes._subplots.AxesSubplot at 0x7fc89a9145d0>"
            ]
          },
          "metadata": {},
          "execution_count": 262
        }
      ]
    },
    {
      "cell_type": "markdown",
      "source": [
        "The above shows that our linear regression model is able to learn from our train dataset given that it can be use to predict the test dataset."
      ],
      "metadata": {
        "id": "aye8OXAxAl97"
      }
    },
    {
      "cell_type": "markdown",
      "source": [
        "Fitting the Elastic net model against the validation datasets to check how the model can learn from the data"
      ],
      "metadata": {
        "id": "TRiRN07WBdnk"
      }
    },
    {
      "cell_type": "code",
      "source": [
        "model = ElasticNet()\n",
        "power_output = model.fit(X_val, y_val)"
      ],
      "metadata": {
        "id": "TwcIgoxMZFhY"
      },
      "execution_count": 282,
      "outputs": []
    },
    {
      "cell_type": "markdown",
      "source": [
        "Getting our R-squared score"
      ],
      "metadata": {
        "id": "CW2oVJubBxmM"
      }
    },
    {
      "cell_type": "code",
      "source": [
        "coef_deter = power_output.score(X_val, y_val)\n",
        "coef_deter"
      ],
      "metadata": {
        "colab": {
          "base_uri": "https://localhost:8080/"
        },
        "id": "Fzdba7hJaYMp",
        "outputId": "256f8f5c-836f-4418-8106-fd16e4f59d54"
      },
      "execution_count": 283,
      "outputs": [
        {
          "output_type": "execute_result",
          "data": {
            "text/plain": [
              "0.6940933815962075"
            ]
          },
          "metadata": {},
          "execution_count": 283
        }
      ]
    },
    {
      "cell_type": "markdown",
      "source": [
        "The r-squared score shows how well a model learns from its train dataset"
      ],
      "metadata": {
        "id": "FFmxmVLKB3u4"
      }
    },
    {
      "cell_type": "markdown",
      "source": [
        "Getting our adjusted R-squared score"
      ],
      "metadata": {
        "id": "GMyaJpmfB9bd"
      }
    },
    {
      "cell_type": "code",
      "source": [
        "1 - (1-model.score(X_val, y_val))*(len(y_val)-1)/(len(y_val)-X_val.shape[1]-1)"
      ],
      "metadata": {
        "colab": {
          "base_uri": "https://localhost:8080/"
        },
        "id": "NKh78ClEapBa",
        "outputId": "625e31c5-9316-4462-a229-7d76889b144b"
      },
      "execution_count": 284,
      "outputs": [
        {
          "output_type": "execute_result",
          "data": {
            "text/plain": [
              "0.6784058627037053"
            ]
          },
          "metadata": {},
          "execution_count": 284
        }
      ]
    },
    {
      "cell_type": "markdown",
      "source": [
        "The adjusted r-squared score also shows how well a model learns from its training dataset"
      ],
      "metadata": {
        "id": "4kkpdgWqCJ-5"
      }
    },
    {
      "cell_type": "code",
      "source": [
        "intercept = model.coef_\n",
        "intercept"
      ],
      "metadata": {
        "colab": {
          "base_uri": "https://localhost:8080/"
        },
        "id": "R7tduFeta66E",
        "outputId": "cfb90570-ae82-4f70-f1d3-1c9e3e24e103"
      },
      "execution_count": 285,
      "outputs": [
        {
          "output_type": "execute_result",
          "data": {
            "text/plain": [
              "array([0.00627415, 0.00202396])"
            ]
          },
          "metadata": {},
          "execution_count": 285
        }
      ]
    },
    {
      "cell_type": "markdown",
      "source": [
        "The coefficient is measurement used to explain how much variability of our dependent variable can be explained by our independent variable"
      ],
      "metadata": {
        "id": "8d_OinyfCrE4"
      }
    },
    {
      "cell_type": "code",
      "source": [
        "y_predict = power_output.predict(X_test)"
      ],
      "metadata": {
        "id": "7oTXQulmbIKT"
      },
      "execution_count": 267,
      "outputs": []
    },
    {
      "cell_type": "markdown",
      "source": [
        "The y_predict shows the level at which we can use the train model to predict the test dataset"
      ],
      "metadata": {
        "id": "606QCuB2C_SN"
      }
    },
    {
      "cell_type": "code",
      "source": [
        "print(\"MAE : \",mean_absolute_error(y_test, y_predict))\n",
        "print(\"MSE : \",mean_squared_error(y_test, y_predict))\n",
        "print(\"R2 score : \",r2_score(y_test, y_predict))"
      ],
      "metadata": {
        "colab": {
          "base_uri": "https://localhost:8080/"
        },
        "id": "I2dQJzoybMMN",
        "outputId": "043135cf-f84c-4b57-c61e-51a7a586ac54"
      },
      "execution_count": 286,
      "outputs": [
        {
          "output_type": "stream",
          "name": "stdout",
          "text": [
            "MAE :  5.858301558247847\n",
            "MSE :  86.58327564409157\n",
            "R2 score :  0.7419912930493244\n"
          ]
        }
      ]
    },
    {
      "cell_type": "markdown",
      "source": [
        "Testing the elastic net model with the test dataset to know how good the model can be used to predict the estimated relative performance by comparing the train score against the test score.If the difference between the train and test score is not far apart,it shows that the model is working, but in a case where the difference is a lot,then there is the need to do a pre-diagnosis."
      ],
      "metadata": {
        "id": "9RoCkoWqDLUF"
      }
    },
    {
      "cell_type": "markdown",
      "source": [
        "\n",
        "Plotting a histogram that would show how distributed our data is."
      ],
      "metadata": {
        "id": "RguABJdiFJms"
      }
    },
    {
      "cell_type": "code",
      "source": [
        "model = ElasticNet()\n",
        "visualizer = ResidualsPlot(model, hist=True, qqplot=False)\n",
        "\n",
        "visualizer.fit(X_train, y_train)  \n",
        "visualizer.score(X_test, y_test)  \n",
        "visualizer.show()"
      ],
      "metadata": {
        "colab": {
          "base_uri": "https://localhost:8080/",
          "height": 394
        },
        "id": "GPtKkxLEbTKl",
        "outputId": "f9fabee4-e02f-4940-c64a-e6754cec0fdf"
      },
      "execution_count": 287,
      "outputs": [
        {
          "output_type": "display_data",
          "data": {
            "text/plain": [
              "<Figure size 576x396 with 2 Axes>"
            ],
            "image/png": "[encoded data removed]"
          },
          "metadata": {}
        },
        {
          "output_type": "execute_result",
          "data": {
            "text/plain": [
              "<matplotlib.axes._subplots.AxesSubplot at 0x7fc899982e50>"
            ]
          },
          "metadata": {},
          "execution_count": 287
        }
      ]
    },
    {
      "cell_type": "markdown",
      "source": [
        "From the graph above, we can see that our error is normally distributed around zero,and this generally indicates a well fitted model."
      ],
      "metadata": {
        "id": "evfAxSfLFWaN"
      }
    },
    {
      "cell_type": "markdown",
      "source": [
        "Fitting the Ridge model against the validation datasets to check how the model can learn from the data"
      ],
      "metadata": {
        "id": "lcptSd9BBn8j"
      }
    },
    {
      "cell_type": "code",
      "source": [
        "model_ = Ridge(alpha=5)\n",
        "power_output_ = model_.fit(X_val, y_val)"
      ],
      "metadata": {
        "id": "aja6nrPub1JR"
      },
      "execution_count": 288,
      "outputs": []
    },
    {
      "cell_type": "markdown",
      "source": [
        "Getting our R-squared score."
      ],
      "metadata": {
        "id": "Pw95wuTDMkHz"
      }
    },
    {
      "cell_type": "code",
      "source": [
        "coef_deter = power_output.score(X_val, y_val)\n",
        "coef_deter"
      ],
      "metadata": {
        "colab": {
          "base_uri": "https://localhost:8080/"
        },
        "id": "QVACmdBLcaO8",
        "outputId": "d5ef7503-d7b1-4196-ef50-35fdc5ab8ad5"
      },
      "execution_count": 289,
      "outputs": [
        {
          "output_type": "execute_result",
          "data": {
            "text/plain": [
              "0.6940933815962075"
            ]
          },
          "metadata": {},
          "execution_count": 289
        }
      ]
    },
    {
      "cell_type": "markdown",
      "source": [
        "The r-squared score shows how well a model learns from its train dataset"
      ],
      "metadata": {
        "id": "uyI1VXbCMtgf"
      }
    },
    {
      "cell_type": "markdown",
      "source": [
        "Getting our adjusted R-squared score"
      ],
      "metadata": {
        "id": "5ZkiwLG_M5ku"
      }
    },
    {
      "cell_type": "code",
      "source": [
        "1 - (1-model.score(X_val, y_val))*(len(y_val)-1)/(len(y_val)-X_val.shape[1]-1)"
      ],
      "metadata": {
        "colab": {
          "base_uri": "https://localhost:8080/"
        },
        "id": "xYXJ7aZ4cen3",
        "outputId": "821d01c3-86eb-45bd-f975-cdaa273981cc"
      },
      "execution_count": 290,
      "outputs": [
        {
          "output_type": "execute_result",
          "data": {
            "text/plain": [
              "0.6458180793959452"
            ]
          },
          "metadata": {},
          "execution_count": 290
        }
      ]
    },
    {
      "cell_type": "markdown",
      "source": [
        "The adjusted r-squared score also shows how well a model learns from its training dataset"
      ],
      "metadata": {
        "id": "TA3qZvWNNeId"
      }
    },
    {
      "cell_type": "code",
      "source": [
        "intercept = model.coef_\n",
        "intercept"
      ],
      "metadata": {
        "colab": {
          "base_uri": "https://localhost:8080/"
        },
        "id": "rx6T4dvEcjFQ",
        "outputId": "70a41a35-bc6e-4199-e6c8-da2795bbee46"
      },
      "execution_count": 291,
      "outputs": [
        {
          "output_type": "execute_result",
          "data": {
            "text/plain": [
              "array([0.00334153, 0.00260471])"
            ]
          },
          "metadata": {},
          "execution_count": 291
        }
      ]
    },
    {
      "cell_type": "markdown",
      "source": [
        "The coefficient is measurement used to explain how much variability of our dependent variable can be explained by our independent variable"
      ],
      "metadata": {
        "id": "L66-y-dfP77l"
      }
    },
    {
      "cell_type": "code",
      "source": [
        "y_predict = power_output.predict(X_test)"
      ],
      "metadata": {
        "id": "bQrlhxT9cnZr"
      },
      "execution_count": 292,
      "outputs": []
    },
    {
      "cell_type": "markdown",
      "source": [
        "This shows the r-squared score and error scores for the validation dataset on the ridge model"
      ],
      "metadata": {
        "id": "5BNCIAi2P-Pi"
      }
    },
    {
      "cell_type": "code",
      "source": [
        "print(\"MAE : \",mean_absolute_error(y_test, y_predict))\n",
        "print(\"MSE : \",mean_squared_error(y_test, y_predict))\n",
        "print(\"R2 score : \",r2_score(y_test, y_predict))"
      ],
      "metadata": {
        "colab": {
          "base_uri": "https://localhost:8080/"
        },
        "id": "7oW_vMw-csM0",
        "outputId": "e30bc7f8-832f-4659-cd49-533fa95304e6"
      },
      "execution_count": 293,
      "outputs": [
        {
          "output_type": "stream",
          "name": "stdout",
          "text": [
            "MAE :  5.858301558247847\n",
            "MSE :  86.58327564409157\n",
            "R2 score :  0.7419912930493244\n"
          ]
        }
      ]
    },
    {
      "cell_type": "markdown",
      "source": [
        "Testing the ridge model with the test dataset to know how good the model can be used to predict the estimated relative performance by comparing the train score against the test score.If the difference between the train and test score is not far apart,it shows that the model is working, but in a case where the difference is a lot,then there is the need to do a pre-diagnosis."
      ],
      "metadata": {
        "id": "GYlsvOvgQIbj"
      }
    },
    {
      "cell_type": "markdown",
      "source": [
        "Plotting a histogram that would show how distributed our data is."
      ],
      "metadata": {
        "id": "bUo_OYQORE00"
      }
    },
    {
      "cell_type": "code",
      "source": [
        "model = Ridge()\n",
        "visualizer = ResidualsPlot(model, hist=True, qqplot=False)\n",
        "\n",
        "visualizer.fit(X_train, y_train)  \n",
        "visualizer.score(X_test, y_test)  \n",
        "visualizer.show()"
      ],
      "metadata": {
        "colab": {
          "base_uri": "https://localhost:8080/",
          "height": 394
        },
        "id": "Jf2_1YVzczXQ",
        "outputId": "e8538e68-f5d0-43dc-f826-a332ebaa4552"
      },
      "execution_count": 294,
      "outputs": [
        {
          "output_type": "display_data",
          "data": {
            "text/plain": [
              "<Figure size 576x396 with 2 Axes>"
            ],
            "image/png": "[encoded data removed]"
          },
          "metadata": {}
        },
        {
          "output_type": "execute_result",
          "data": {
            "text/plain": [
              "<matplotlib.axes._subplots.AxesSubplot at 0x7fc89978f850>"
            ]
          },
          "metadata": {},
          "execution_count": 294
        }
      ]
    },
    {
      "cell_type": "markdown",
      "source": [
        "From the graph above, we can see that our error is normally distributed around zero,and this generally indicates a well fitted model."
      ],
      "metadata": {
        "id": "nmADxzatRKRi"
      }
    },
    {
      "cell_type": "markdown",
      "source": [
        "Training the model with the Ridge model since it performs better than the linear regression model and the elastic net regression "
      ],
      "metadata": {
        "id": "PFm0K97dRSvM"
      }
    },
    {
      "cell_type": "code",
      "source": [
        "model_ = Ridge()\n",
        "power_output = model_.fit(X_train, y_train)"
      ],
      "metadata": {
        "id": "TZdIAdyDdFIa"
      },
      "execution_count": 295,
      "outputs": []
    },
    {
      "cell_type": "markdown",
      "source": [
        "Getting our R-squared score."
      ],
      "metadata": {
        "id": "mA9T1jvCSafn"
      }
    },
    {
      "cell_type": "code",
      "source": [
        "coef_deter_ = power_output.score(X_train, y_train)\n",
        "coef_deter_"
      ],
      "metadata": {
        "colab": {
          "base_uri": "https://localhost:8080/"
        },
        "id": "mQ-lLP7Id85N",
        "outputId": "640c8f61-f6d7-42cd-8788-e399ba6db601"
      },
      "execution_count": 296,
      "outputs": [
        {
          "output_type": "execute_result",
          "data": {
            "text/plain": [
              "0.6543061405068857"
            ]
          },
          "metadata": {},
          "execution_count": 296
        }
      ]
    },
    {
      "cell_type": "markdown",
      "source": [
        "The r-squared score shows how well a model learns from its train dataset"
      ],
      "metadata": {
        "id": "5EyQJyLCShfx"
      }
    },
    {
      "cell_type": "code",
      "source": [
        "intercept_ = model.coef_\n",
        "intercept_"
      ],
      "metadata": {
        "colab": {
          "base_uri": "https://localhost:8080/"
        },
        "id": "y7bocNPoeKVj",
        "outputId": "f4bece1f-2f9c-4fc7-bc20-88efa6eca9df"
      },
      "execution_count": 297,
      "outputs": [
        {
          "output_type": "execute_result",
          "data": {
            "text/plain": [
              "array([0.00334194, 0.00260467])"
            ]
          },
          "metadata": {},
          "execution_count": 297
        }
      ]
    },
    {
      "cell_type": "markdown",
      "source": [
        "The coefficient is measurement used to explain how much variability of our dependent variable can be explained by our independent variable"
      ],
      "metadata": {
        "id": "bE1px_joSm_H"
      }
    },
    {
      "cell_type": "markdown",
      "source": [
        "This shows the r-squared score and error scores for the validation dataset on the ridge model"
      ],
      "metadata": {
        "id": "2FgvI3BSSvdO"
      }
    },
    {
      "cell_type": "code",
      "source": [
        "print(\"MAE : \",mean_absolute_error(y_test, y_predict))\n",
        "print(\"MSE : \",mean_squared_error(y_test, y_predict))\n",
        "print(\"R2 score : \",r2_score(y_test, y_predict))"
      ],
      "metadata": {
        "colab": {
          "base_uri": "https://localhost:8080/"
        },
        "id": "0drVq7wOepAW",
        "outputId": "e4824cf4-92dc-445c-97bb-d9ce364b3f1c"
      },
      "execution_count": 298,
      "outputs": [
        {
          "output_type": "stream",
          "name": "stdout",
          "text": [
            "MAE :  5.858301558247847\n",
            "MSE :  86.58327564409157\n",
            "R2 score :  0.7419912930493244\n"
          ]
        }
      ]
    },
    {
      "cell_type": "markdown",
      "source": [
        "Testing the ridge model with the train dataset to know how good the model can be used to predict the estimated relative performance by comparing the train score against the test score.If the difference between the train and test score is not far apart,it shows that the model is working, but in a case where the difference is a lot,then there is the need to do a pre-diagnosis."
      ],
      "metadata": {
        "id": "9ww58EDWTP2x"
      }
    },
    {
      "cell_type": "markdown",
      "source": [
        "Plotting a histogram that would show how distributed our data is."
      ],
      "metadata": {
        "id": "dTLy8m0JTbHA"
      }
    },
    {
      "cell_type": "code",
      "source": [
        "model_1 = Ridge()\n",
        "visualizer_ = ResidualsPlot(model_1, hist=True, qqplot=False)\n",
        "\n",
        "visualizer_.fit(X_train, y_train)  \n",
        "visualizer_.score(X_test, y_test)  \n",
        "visualizer_.show()"
      ],
      "metadata": {
        "colab": {
          "base_uri": "https://localhost:8080/",
          "height": 394
        },
        "id": "FKbXQ71Xey9q",
        "outputId": "acb1f898-a39d-4721-e132-d04e31b05169"
      },
      "execution_count": 299,
      "outputs": [
        {
          "output_type": "display_data",
          "data": {
            "text/plain": [
              "<Figure size 576x396 with 2 Axes>"
            ],
            "image/png": "[encoded data removed]"
          },
          "metadata": {}
        },
        {
          "output_type": "execute_result",
          "data": {
            "text/plain": [
              "<matplotlib.axes._subplots.AxesSubplot at 0x7fc899550410>"
            ]
          },
          "metadata": {},
          "execution_count": 299
        }
      ]
    },
    {
      "cell_type": "markdown",
      "source": [
        "From the R2 score above, it shows that the variables in our regression equation can explain 77% of the change in our output variable."
      ],
      "metadata": {
        "id": "ZAbaeeuPLft_"
      }
    },
    {
      "cell_type": "markdown",
      "source": [
        "                      **END OF NOTEBOOK**"
      ],
      "metadata": {
        "id": "DBdLuNFZclvv"
      }
    }
  ]
}